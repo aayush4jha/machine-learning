{
 "cells": [
  {
   "cell_type": "code",
   "execution_count": 3,
   "id": "7f898131-5e2d-484f-bdfd-626f7b87438f",
   "metadata": {},
   "outputs": [],
   "source": [
    "import pandas as pd"
   ]
  },
  {
   "cell_type": "code",
   "execution_count": 5,
   "id": "202c94b3-c150-4867-a740-84b09765fa43",
   "metadata": {},
   "outputs": [],
   "source": [
    "df=pd.read_csv('train.csv')"
   ]
  },
  {
   "cell_type": "code",
   "execution_count": 7,
   "id": "c91e8a79-01ed-47cd-ab7a-04f1ee5cd99e",
   "metadata": {},
   "outputs": [
    {
     "data": {
      "text/html": [
       "<div>\n",
       "<style scoped>\n",
       "    .dataframe tbody tr th:only-of-type {\n",
       "        vertical-align: middle;\n",
       "    }\n",
       "\n",
       "    .dataframe tbody tr th {\n",
       "        vertical-align: top;\n",
       "    }\n",
       "\n",
       "    .dataframe thead th {\n",
       "        text-align: right;\n",
       "    }\n",
       "</style>\n",
       "<table border=\"1\" class=\"dataframe\">\n",
       "  <thead>\n",
       "    <tr style=\"text-align: right;\">\n",
       "      <th></th>\n",
       "      <th>PassengerId</th>\n",
       "      <th>Survived</th>\n",
       "      <th>Pclass</th>\n",
       "      <th>Name</th>\n",
       "      <th>Sex</th>\n",
       "      <th>Age</th>\n",
       "      <th>SibSp</th>\n",
       "      <th>Parch</th>\n",
       "      <th>Ticket</th>\n",
       "      <th>Fare</th>\n",
       "      <th>Cabin</th>\n",
       "      <th>Embarked</th>\n",
       "    </tr>\n",
       "  </thead>\n",
       "  <tbody>\n",
       "    <tr>\n",
       "      <th>0</th>\n",
       "      <td>1</td>\n",
       "      <td>0</td>\n",
       "      <td>3</td>\n",
       "      <td>Braund, Mr. Owen Harris</td>\n",
       "      <td>male</td>\n",
       "      <td>22.0</td>\n",
       "      <td>1</td>\n",
       "      <td>0</td>\n",
       "      <td>A/5 21171</td>\n",
       "      <td>7.2500</td>\n",
       "      <td>NaN</td>\n",
       "      <td>S</td>\n",
       "    </tr>\n",
       "    <tr>\n",
       "      <th>1</th>\n",
       "      <td>2</td>\n",
       "      <td>1</td>\n",
       "      <td>1</td>\n",
       "      <td>Cumings, Mrs. John Bradley (Florence Briggs Th...</td>\n",
       "      <td>female</td>\n",
       "      <td>38.0</td>\n",
       "      <td>1</td>\n",
       "      <td>0</td>\n",
       "      <td>PC 17599</td>\n",
       "      <td>71.2833</td>\n",
       "      <td>C85</td>\n",
       "      <td>C</td>\n",
       "    </tr>\n",
       "    <tr>\n",
       "      <th>2</th>\n",
       "      <td>3</td>\n",
       "      <td>1</td>\n",
       "      <td>3</td>\n",
       "      <td>Heikkinen, Miss. Laina</td>\n",
       "      <td>female</td>\n",
       "      <td>26.0</td>\n",
       "      <td>0</td>\n",
       "      <td>0</td>\n",
       "      <td>STON/O2. 3101282</td>\n",
       "      <td>7.9250</td>\n",
       "      <td>NaN</td>\n",
       "      <td>S</td>\n",
       "    </tr>\n",
       "    <tr>\n",
       "      <th>3</th>\n",
       "      <td>4</td>\n",
       "      <td>1</td>\n",
       "      <td>1</td>\n",
       "      <td>Futrelle, Mrs. Jacques Heath (Lily May Peel)</td>\n",
       "      <td>female</td>\n",
       "      <td>35.0</td>\n",
       "      <td>1</td>\n",
       "      <td>0</td>\n",
       "      <td>113803</td>\n",
       "      <td>53.1000</td>\n",
       "      <td>C123</td>\n",
       "      <td>S</td>\n",
       "    </tr>\n",
       "    <tr>\n",
       "      <th>4</th>\n",
       "      <td>5</td>\n",
       "      <td>0</td>\n",
       "      <td>3</td>\n",
       "      <td>Allen, Mr. William Henry</td>\n",
       "      <td>male</td>\n",
       "      <td>35.0</td>\n",
       "      <td>0</td>\n",
       "      <td>0</td>\n",
       "      <td>373450</td>\n",
       "      <td>8.0500</td>\n",
       "      <td>NaN</td>\n",
       "      <td>S</td>\n",
       "    </tr>\n",
       "  </tbody>\n",
       "</table>\n",
       "</div>"
      ],
      "text/plain": [
       "   PassengerId  Survived  Pclass  \\\n",
       "0            1         0       3   \n",
       "1            2         1       1   \n",
       "2            3         1       3   \n",
       "3            4         1       1   \n",
       "4            5         0       3   \n",
       "\n",
       "                                                Name     Sex   Age  SibSp  \\\n",
       "0                            Braund, Mr. Owen Harris    male  22.0      1   \n",
       "1  Cumings, Mrs. John Bradley (Florence Briggs Th...  female  38.0      1   \n",
       "2                             Heikkinen, Miss. Laina  female  26.0      0   \n",
       "3       Futrelle, Mrs. Jacques Heath (Lily May Peel)  female  35.0      1   \n",
       "4                           Allen, Mr. William Henry    male  35.0      0   \n",
       "\n",
       "   Parch            Ticket     Fare Cabin Embarked  \n",
       "0      0         A/5 21171   7.2500   NaN        S  \n",
       "1      0          PC 17599  71.2833   C85        C  \n",
       "2      0  STON/O2. 3101282   7.9250   NaN        S  \n",
       "3      0            113803  53.1000  C123        S  \n",
       "4      0            373450   8.0500   NaN        S  "
      ]
     },
     "execution_count": 7,
     "metadata": {},
     "output_type": "execute_result"
    }
   ],
   "source": [
    "df.head()"
   ]
  },
  {
   "cell_type": "code",
   "execution_count": 9,
   "id": "ef9e992e-4dfa-4421-bead-c8fe828cd902",
   "metadata": {},
   "outputs": [
    {
     "name": "stdout",
     "output_type": "stream",
     "text": [
      "Requirement already satisfied: pandas-profiling in /Users/aayushjha/Desktop/Main/machine-learning/.conda/lib/python3.11/site-packages (3.2.0)\n",
      "Requirement already satisfied: joblib~=1.1.0 in /Users/aayushjha/Desktop/Main/machine-learning/.conda/lib/python3.11/site-packages (from pandas-profiling) (1.1.1)\n",
      "Requirement already satisfied: scipy>=1.4.1 in /Users/aayushjha/Desktop/Main/machine-learning/.conda/lib/python3.11/site-packages (from pandas-profiling) (1.15.3)\n",
      "Requirement already satisfied: pandas!=1.0.0,!=1.0.1,!=1.0.2,!=1.1.0,>=0.25.3 in /Users/aayushjha/Desktop/Main/machine-learning/.conda/lib/python3.11/site-packages (from pandas-profiling) (2.3.0)\n",
      "Requirement already satisfied: matplotlib>=3.2.0 in /Users/aayushjha/Desktop/Main/machine-learning/.conda/lib/python3.11/site-packages (from pandas-profiling) (3.10.0)\n",
      "Requirement already satisfied: pydantic>=1.8.1 in /Users/aayushjha/Desktop/Main/machine-learning/.conda/lib/python3.11/site-packages (from pandas-profiling) (2.11.7)\n",
      "Requirement already satisfied: PyYAML>=5.0.0 in /Users/aayushjha/Desktop/Main/machine-learning/.conda/lib/python3.11/site-packages (from pandas-profiling) (6.0.2)\n",
      "Requirement already satisfied: jinja2>=2.11.1 in /Users/aayushjha/Desktop/Main/machine-learning/.conda/lib/python3.11/site-packages (from pandas-profiling) (3.1.6)\n",
      "Requirement already satisfied: markupsafe~=2.1.1 in /Users/aayushjha/Desktop/Main/machine-learning/.conda/lib/python3.11/site-packages (from pandas-profiling) (2.1.5)\n",
      "Collecting visions==0.7.4 (from visions[type_image_path]==0.7.4->pandas-profiling)\n",
      "  Using cached visions-0.7.4-py3-none-any.whl.metadata (5.9 kB)\n",
      "Requirement already satisfied: numpy>=1.16.0 in /Users/aayushjha/Desktop/Main/machine-learning/.conda/lib/python3.11/site-packages (from pandas-profiling) (2.1.0)\n",
      "Requirement already satisfied: htmlmin>=0.1.12 in /Users/aayushjha/Desktop/Main/machine-learning/.conda/lib/python3.11/site-packages (from pandas-profiling) (0.1.12)\n",
      "Requirement already satisfied: missingno>=0.4.2 in /Users/aayushjha/Desktop/Main/machine-learning/.conda/lib/python3.11/site-packages (from pandas-profiling) (0.5.2)\n",
      "Requirement already satisfied: phik>=0.11.1 in /Users/aayushjha/Desktop/Main/machine-learning/.conda/lib/python3.11/site-packages (from pandas-profiling) (0.12.4)\n",
      "Requirement already satisfied: tangled-up-in-unicode==0.2.0 in /Users/aayushjha/Desktop/Main/machine-learning/.conda/lib/python3.11/site-packages (from pandas-profiling) (0.2.0)\n",
      "Requirement already satisfied: requests>=2.24.0 in /Users/aayushjha/Desktop/Main/machine-learning/.conda/lib/python3.11/site-packages (from pandas-profiling) (2.32.4)\n",
      "Requirement already satisfied: tqdm>=4.48.2 in /Users/aayushjha/Desktop/Main/machine-learning/.conda/lib/python3.11/site-packages (from pandas-profiling) (4.67.1)\n",
      "Requirement already satisfied: seaborn>=0.10.1 in /Users/aayushjha/Desktop/Main/machine-learning/.conda/lib/python3.11/site-packages (from pandas-profiling) (0.13.2)\n",
      "Requirement already satisfied: multimethod>=1.4 in /Users/aayushjha/Desktop/Main/machine-learning/.conda/lib/python3.11/site-packages (from pandas-profiling) (1.12)\n",
      "Requirement already satisfied: attrs>=19.3.0 in /Users/aayushjha/Desktop/Main/machine-learning/.conda/lib/python3.11/site-packages (from visions==0.7.4->visions[type_image_path]==0.7.4->pandas-profiling) (25.3.0)\n",
      "Requirement already satisfied: networkx>=2.4 in /Users/aayushjha/Desktop/Main/machine-learning/.conda/lib/python3.11/site-packages (from visions==0.7.4->visions[type_image_path]==0.7.4->pandas-profiling) (3.5)\n",
      "Requirement already satisfied: imagehash in /Users/aayushjha/Desktop/Main/machine-learning/.conda/lib/python3.11/site-packages (from visions[type_image_path]==0.7.4->pandas-profiling) (4.3.1)\n",
      "Requirement already satisfied: Pillow in /Users/aayushjha/Desktop/Main/machine-learning/.conda/lib/python3.11/site-packages (from visions[type_image_path]==0.7.4->pandas-profiling) (11.3.0)\n",
      "Requirement already satisfied: contourpy>=1.0.1 in /Users/aayushjha/Desktop/Main/machine-learning/.conda/lib/python3.11/site-packages (from matplotlib>=3.2.0->pandas-profiling) (1.3.2)\n",
      "Requirement already satisfied: cycler>=0.10 in /Users/aayushjha/Desktop/Main/machine-learning/.conda/lib/python3.11/site-packages (from matplotlib>=3.2.0->pandas-profiling) (0.12.1)\n",
      "Requirement already satisfied: fonttools>=4.22.0 in /Users/aayushjha/Desktop/Main/machine-learning/.conda/lib/python3.11/site-packages (from matplotlib>=3.2.0->pandas-profiling) (4.58.4)\n",
      "Requirement already satisfied: kiwisolver>=1.3.1 in /Users/aayushjha/Desktop/Main/machine-learning/.conda/lib/python3.11/site-packages (from matplotlib>=3.2.0->pandas-profiling) (1.4.8)\n",
      "Requirement already satisfied: packaging>=20.0 in /Users/aayushjha/Desktop/Main/machine-learning/.conda/lib/python3.11/site-packages (from matplotlib>=3.2.0->pandas-profiling) (25.0)\n",
      "Requirement already satisfied: pyparsing>=2.3.1 in /Users/aayushjha/Desktop/Main/machine-learning/.conda/lib/python3.11/site-packages (from matplotlib>=3.2.0->pandas-profiling) (3.2.3)\n",
      "Requirement already satisfied: python-dateutil>=2.7 in /Users/aayushjha/Desktop/Main/machine-learning/.conda/lib/python3.11/site-packages (from matplotlib>=3.2.0->pandas-profiling) (2.9.0.post0)\n",
      "Requirement already satisfied: pytz>=2020.1 in /Users/aayushjha/Desktop/Main/machine-learning/.conda/lib/python3.11/site-packages (from pandas!=1.0.0,!=1.0.1,!=1.0.2,!=1.1.0,>=0.25.3->pandas-profiling) (2025.2)\n",
      "Requirement already satisfied: tzdata>=2022.7 in /Users/aayushjha/Desktop/Main/machine-learning/.conda/lib/python3.11/site-packages (from pandas!=1.0.0,!=1.0.1,!=1.0.2,!=1.1.0,>=0.25.3->pandas-profiling) (2025.2)\n",
      "Requirement already satisfied: annotated-types>=0.6.0 in /Users/aayushjha/Desktop/Main/machine-learning/.conda/lib/python3.11/site-packages (from pydantic>=1.8.1->pandas-profiling) (0.7.0)\n",
      "Requirement already satisfied: pydantic-core==2.33.2 in /Users/aayushjha/Desktop/Main/machine-learning/.conda/lib/python3.11/site-packages (from pydantic>=1.8.1->pandas-profiling) (2.33.2)\n",
      "Requirement already satisfied: typing-extensions>=4.12.2 in /Users/aayushjha/Desktop/Main/machine-learning/.conda/lib/python3.11/site-packages (from pydantic>=1.8.1->pandas-profiling) (4.14.0)\n",
      "Requirement already satisfied: typing-inspection>=0.4.0 in /Users/aayushjha/Desktop/Main/machine-learning/.conda/lib/python3.11/site-packages (from pydantic>=1.8.1->pandas-profiling) (0.4.1)\n",
      "Requirement already satisfied: six>=1.5 in /Users/aayushjha/Desktop/Main/machine-learning/.conda/lib/python3.11/site-packages (from python-dateutil>=2.7->matplotlib>=3.2.0->pandas-profiling) (1.17.0)\n",
      "Requirement already satisfied: charset_normalizer<4,>=2 in /Users/aayushjha/Desktop/Main/machine-learning/.conda/lib/python3.11/site-packages (from requests>=2.24.0->pandas-profiling) (3.4.2)\n",
      "Requirement already satisfied: idna<4,>=2.5 in /Users/aayushjha/Desktop/Main/machine-learning/.conda/lib/python3.11/site-packages (from requests>=2.24.0->pandas-profiling) (3.10)\n",
      "Requirement already satisfied: urllib3<3,>=1.21.1 in /Users/aayushjha/Desktop/Main/machine-learning/.conda/lib/python3.11/site-packages (from requests>=2.24.0->pandas-profiling) (2.5.0)\n",
      "Requirement already satisfied: certifi>=2017.4.17 in /Users/aayushjha/Desktop/Main/machine-learning/.conda/lib/python3.11/site-packages (from requests>=2.24.0->pandas-profiling) (2025.6.15)\n",
      "Requirement already satisfied: PyWavelets in /Users/aayushjha/Desktop/Main/machine-learning/.conda/lib/python3.11/site-packages (from imagehash->visions[type_image_path]==0.7.4->pandas-profiling) (1.8.0)\n",
      "Using cached visions-0.7.4-py3-none-any.whl (102 kB)\n",
      "Installing collected packages: visions\n",
      "  Attempting uninstall: visions\n",
      "    Found existing installation: visions 0.8.1\n",
      "    Uninstalling visions-0.8.1:\n",
      "      Successfully uninstalled visions-0.8.1\n",
      "\u001b[31mERROR: pip's dependency resolver does not currently take into account all the packages that are installed. This behaviour is the source of the following dependency conflicts.\n",
      "ydata-profiling 4.16.1 requires visions[type_image_path]<0.8.2,>=0.7.5, but you have visions 0.7.4 which is incompatible.\u001b[0m\u001b[31m\n",
      "\u001b[0mSuccessfully installed visions-0.7.4\n"
     ]
    }
   ],
   "source": [
    "!pip install pandas-profiling"
   ]
  },
  {
   "cell_type": "code",
   "execution_count": null,
   "id": "691e3532-aa8f-4da7-83ac-13a3c5bfe1da",
   "metadata": {},
   "outputs": [
    {
     "name": "stderr",
     "output_type": "stream",
     "text": [
      "/var/folders/03/sjfchj0j3d72djnp6wx7f7lh0000gn/T/ipykernel_31081/4209343599.py:1: DeprecationWarning: `import pandas_profiling` is going to be deprecated by April 1st. Please use `import ydata_profiling` instead.\n",
      "  from pandas_profiling import ProfileReport\n",
      "Summarize dataset:  12%| | 2/17 [00:00<00:00, 40.82it/s, Describe variable: Fare\n",
      "Summarize dataset:  65%|▋| 11/17 [00:00<00:00, 39.25it/s, Describe variable: Emb\u001b[A\n",
      "100%|███████████████████████████████████████████| 12/12 [00:00<00:00, 68.05it/s]\u001b[A\n",
      "Summarize dataset: 100%|█████████████| 47/47 [00:01<00:00, 39.90it/s, Completed]\n",
      "Generate report structure:   0%|                          | 0/1 [00:00<?, ?it/s]"
     ]
    }
   ],
   "source": [
    "from pandas_profiling import ProfileReport\n",
    "prof = ProfileReport(df)\n",
    "prof.to_file(output_file='output.html')"
   ]
  },
  {
   "cell_type": "code",
   "execution_count": null,
   "id": "eab5ee11-572c-4973-9e1d-c898478ce508",
   "metadata": {},
   "outputs": [],
   "source": [
    "pip show numba"
   ]
  },
  {
   "cell_type": "code",
   "execution_count": null,
   "id": "4b2d3741-cd93-4ef9-af72-1d352933c9cd",
   "metadata": {},
   "outputs": [],
   "source": [
    "pip install numba==0.56.4"
   ]
  },
  {
   "cell_type": "code",
   "execution_count": null,
   "id": "d9d2f344-f11b-49ac-9809-c664f60355dc",
   "metadata": {},
   "outputs": [],
   "source": [
    "pip install --upgrade ydata-profiling"
   ]
  },
  {
   "cell_type": "code",
   "execution_count": null,
   "id": "b13b176f-4c07-4bc7-bb84-19248d1d4672",
   "metadata": {},
   "outputs": [],
   "source": [
    "python -m venv env\n",
    "source env/bin/activate  # On Windows: env\\Scripts\\activate\n",
    "pip install pandas ydata-profiling numba==0.56.4"
   ]
  },
  {
   "cell_type": "code",
   "execution_count": null,
   "id": "a8e50ee0-b56e-47a8-898b-73b1d92eff85",
   "metadata": {},
   "outputs": [],
   "source": [
    "from ydata_profiling import ProfileReport\n",
    "prof = ProfileReport(df)\n",
    "prof.to_file(output_file='output.html')"
   ]
  },
  {
   "cell_type": "code",
   "execution_count": null,
   "id": "6099d9fb-f3f8-4e98-930a-33c64b37fd28",
   "metadata": {},
   "outputs": [],
   "source": [
    "from ydata_profiling import ProfileReport\n",
    "prof = ProfileReport(df)\n",
    "prof.to_file(output_file='output.html')"
   ]
  },
  {
   "cell_type": "code",
   "execution_count": null,
   "id": "89d05c9f-47aa-49e5-8e7f-437094eced54",
   "metadata": {},
   "outputs": [],
   "source": [
    "pip install pandas-profiling==3.6.6\n"
   ]
  },
  {
   "cell_type": "code",
   "execution_count": null,
   "id": "a2c8b1b8-c403-4d61-ab0e-ab5c89c050b7",
   "metadata": {},
   "outputs": [],
   "source": [
    "from ydata_profiling import ProfileReport\n",
    "prof = ProfileReport(df)\n",
    "prof.to_file(output_file='output.html')"
   ]
  },
  {
   "cell_type": "code",
   "execution_count": null,
   "id": "d020efa9-dadf-470f-9780-4d7043154677",
   "metadata": {},
   "outputs": [],
   "source": []
  },
  {
   "cell_type": "code",
   "execution_count": null,
   "id": "6dc1972b-ffec-4dce-a59b-5ac317a8757e",
   "metadata": {},
   "outputs": [],
   "source": []
  },
  {
   "cell_type": "code",
   "execution_count": null,
   "id": "53df6ec8-1250-4613-a97f-181e0efcd40c",
   "metadata": {},
   "outputs": [],
   "source": []
  }
 ],
 "metadata": {
  "kernelspec": {
   "display_name": "Python [conda env:.conda]",
   "language": "python",
   "name": "conda-env-.conda-py"
  },
  "language_info": {
   "codemirror_mode": {
    "name": "ipython",
    "version": 3
   },
   "file_extension": ".py",
   "mimetype": "text/x-python",
   "name": "python",
   "nbconvert_exporter": "python",
   "pygments_lexer": "ipython3",
   "version": "3.11.13"
  }
 },
 "nbformat": 4,
 "nbformat_minor": 5
}
